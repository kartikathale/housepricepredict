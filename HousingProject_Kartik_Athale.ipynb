{
 "cells": [
  {
   "cell_type": "markdown",
   "metadata": {},
   "source": [
    "# House Price Prediction Project\n",
    "\n",
    "\n",
    "\n",
    "### ---- Define the problem ----\n"
   ]
  },
  {
   "cell_type": "code",
   "execution_count": null,
   "metadata": {},
   "outputs": [],
   "source": [
    "'''This script pulls in Housing data, builds and tests several predictive models,\n",
    "   and then makes Housing Price predictions on test data using the best model.'''\n",
    "   \n",
    "__author__ = 'Kartik Athale'\n",
    "__email__ = 'Kartik.athale@outlook.com'\n"
   ]
  },
  {
   "cell_type": "code",
   "execution_count": 1,
   "metadata": {},
   "outputs": [],
   "source": [
    "import pandas as pd\n",
    "import numpy as np\n",
    "import seaborn as sns\n",
    "import matplotlib.pyplot as plt\n",
    "from sklearn.ensemble import RandomForestRegressor, GradientBoostingRegressor\n",
    "from sklearn.model_selection import train_test_split\n",
    "from sklearn import ensemble\n",
    "from sklearn.metrics import r2_score\n",
    "from sklearn.svm import LinearSVR\n",
    "\n",
    "import warnings\n",
    "warnings.filterwarnings('ignore')\n",
    "\n"
   ]
  },
  {
   "cell_type": "markdown",
   "metadata": {},
   "source": [
    "\n",
    "\n",
    "### ---- Load the data ----"
   ]
  },
  {
   "cell_type": "code",
   "execution_count": 2,
   "metadata": {},
   "outputs": [],
   "source": [
    "housingData = pd.read_csv('data/useThisDatasetToBuildModel.csv')\n",
    "housingDataToPredict = pd.read_csv('data/useThisDatasetToPredict.csv')"
   ]
  },
  {
   "cell_type": "markdown",
   "metadata": {},
   "source": [
    "### --- Examine the Data ---\n",
    "Load and Discover"
   ]
  },
  {
   "cell_type": "code",
   "execution_count": 42,
   "metadata": {},
   "outputs": [
    {
     "data": {
      "text/html": [
       "<div>\n",
       "<style scoped>\n",
       "    .dataframe tbody tr th:only-of-type {\n",
       "        vertical-align: middle;\n",
       "    }\n",
       "\n",
       "    .dataframe tbody tr th {\n",
       "        vertical-align: top;\n",
       "    }\n",
       "\n",
       "    .dataframe thead th {\n",
       "        text-align: right;\n",
       "    }\n",
       "</style>\n",
       "<table border=\"1\" class=\"dataframe\">\n",
       "  <thead>\n",
       "    <tr style=\"text-align: right;\">\n",
       "      <th></th>\n",
       "      <th>longitude</th>\n",
       "      <th>latitude</th>\n",
       "      <th>medianAge</th>\n",
       "      <th>totalRooms</th>\n",
       "      <th>bedrooms</th>\n",
       "      <th>population</th>\n",
       "      <th>households</th>\n",
       "      <th>medianIncome</th>\n",
       "      <th>medianHouseValue</th>\n",
       "      <th>oceanProximity</th>\n",
       "    </tr>\n",
       "  </thead>\n",
       "  <tbody>\n",
       "    <tr>\n",
       "      <th>0</th>\n",
       "      <td>-122.22</td>\n",
       "      <td>37.86</td>\n",
       "      <td>21</td>\n",
       "      <td>7099</td>\n",
       "      <td>1106</td>\n",
       "      <td>2401</td>\n",
       "      <td>1138</td>\n",
       "      <td>8.3014</td>\n",
       "      <td>358500</td>\n",
       "      <td>NEAR BAY</td>\n",
       "    </tr>\n",
       "    <tr>\n",
       "      <th>1</th>\n",
       "      <td>-122.24</td>\n",
       "      <td>37.85</td>\n",
       "      <td>52</td>\n",
       "      <td>1467</td>\n",
       "      <td>190</td>\n",
       "      <td>496</td>\n",
       "      <td>177</td>\n",
       "      <td>7.2574</td>\n",
       "      <td>352100</td>\n",
       "      <td>NEAR BAY</td>\n",
       "    </tr>\n",
       "    <tr>\n",
       "      <th>2</th>\n",
       "      <td>-122.25</td>\n",
       "      <td>37.85</td>\n",
       "      <td>52</td>\n",
       "      <td>1627</td>\n",
       "      <td>280</td>\n",
       "      <td>565</td>\n",
       "      <td>259</td>\n",
       "      <td>3.8462</td>\n",
       "      <td>342200</td>\n",
       "      <td>NEAR BAY</td>\n",
       "    </tr>\n",
       "    <tr>\n",
       "      <th>3</th>\n",
       "      <td>-122.25</td>\n",
       "      <td>37.84</td>\n",
       "      <td>52</td>\n",
       "      <td>2535</td>\n",
       "      <td>489</td>\n",
       "      <td>1094</td>\n",
       "      <td>514</td>\n",
       "      <td>3.6591</td>\n",
       "      <td>299200</td>\n",
       "      <td>NEAR BAY</td>\n",
       "    </tr>\n",
       "    <tr>\n",
       "      <th>4</th>\n",
       "      <td>-122.25</td>\n",
       "      <td>37.84</td>\n",
       "      <td>52</td>\n",
       "      <td>3104</td>\n",
       "      <td>687</td>\n",
       "      <td>1157</td>\n",
       "      <td>647</td>\n",
       "      <td>3.1200</td>\n",
       "      <td>241400</td>\n",
       "      <td>NEAR BAY</td>\n",
       "    </tr>\n",
       "  </tbody>\n",
       "</table>\n",
       "</div>"
      ],
      "text/plain": [
       "   longitude  latitude  medianAge  totalRooms  bedrooms  population  \\\n",
       "0    -122.22     37.86         21        7099      1106        2401   \n",
       "1    -122.24     37.85         52        1467       190         496   \n",
       "2    -122.25     37.85         52        1627       280         565   \n",
       "3    -122.25     37.84         52        2535       489        1094   \n",
       "4    -122.25     37.84         52        3104       687        1157   \n",
       "\n",
       "   households  medianIncome  medianHouseValue oceanProximity  \n",
       "0        1138        8.3014            358500       NEAR BAY  \n",
       "1         177        7.2574            352100       NEAR BAY  \n",
       "2         259        3.8462            342200       NEAR BAY  \n",
       "3         514        3.6591            299200       NEAR BAY  \n",
       "4         647        3.1200            241400       NEAR BAY  "
      ]
     },
     "execution_count": 42,
     "metadata": {},
     "output_type": "execute_result"
    }
   ],
   "source": [
    "# First 5 Rows from training Dataset.\n",
    "housingData.head()"
   ]
  },
  {
   "cell_type": "code",
   "execution_count": 43,
   "metadata": {},
   "outputs": [
    {
     "data": {
      "text/html": [
       "<div>\n",
       "<style scoped>\n",
       "    .dataframe tbody tr th:only-of-type {\n",
       "        vertical-align: middle;\n",
       "    }\n",
       "\n",
       "    .dataframe tbody tr th {\n",
       "        vertical-align: top;\n",
       "    }\n",
       "\n",
       "    .dataframe thead th {\n",
       "        text-align: right;\n",
       "    }\n",
       "</style>\n",
       "<table border=\"1\" class=\"dataframe\">\n",
       "  <thead>\n",
       "    <tr style=\"text-align: right;\">\n",
       "      <th></th>\n",
       "      <th>longitude</th>\n",
       "      <th>latitude</th>\n",
       "      <th>medianAge</th>\n",
       "      <th>totalRooms</th>\n",
       "      <th>bedrooms</th>\n",
       "      <th>population</th>\n",
       "      <th>households</th>\n",
       "      <th>medianIncome</th>\n",
       "      <th>oceanProximity</th>\n",
       "    </tr>\n",
       "  </thead>\n",
       "  <tbody>\n",
       "    <tr>\n",
       "      <th>0</th>\n",
       "      <td>-122.23</td>\n",
       "      <td>37.88</td>\n",
       "      <td>41</td>\n",
       "      <td>880</td>\n",
       "      <td>129</td>\n",
       "      <td>322</td>\n",
       "      <td>126</td>\n",
       "      <td>8.3252</td>\n",
       "      <td>NEAR BAY</td>\n",
       "    </tr>\n",
       "    <tr>\n",
       "      <th>1</th>\n",
       "      <td>-122.25</td>\n",
       "      <td>37.85</td>\n",
       "      <td>52</td>\n",
       "      <td>1274</td>\n",
       "      <td>235</td>\n",
       "      <td>558</td>\n",
       "      <td>219</td>\n",
       "      <td>5.6431</td>\n",
       "      <td>NEAR BAY</td>\n",
       "    </tr>\n",
       "    <tr>\n",
       "      <th>2</th>\n",
       "      <td>-122.25</td>\n",
       "      <td>37.85</td>\n",
       "      <td>52</td>\n",
       "      <td>919</td>\n",
       "      <td>213</td>\n",
       "      <td>413</td>\n",
       "      <td>193</td>\n",
       "      <td>4.0368</td>\n",
       "      <td>NEAR BAY</td>\n",
       "    </tr>\n",
       "    <tr>\n",
       "      <th>3</th>\n",
       "      <td>-122.26</td>\n",
       "      <td>37.85</td>\n",
       "      <td>50</td>\n",
       "      <td>1120</td>\n",
       "      <td>283</td>\n",
       "      <td>697</td>\n",
       "      <td>264</td>\n",
       "      <td>2.1250</td>\n",
       "      <td>NEAR BAY</td>\n",
       "    </tr>\n",
       "    <tr>\n",
       "      <th>4</th>\n",
       "      <td>-122.27</td>\n",
       "      <td>37.85</td>\n",
       "      <td>52</td>\n",
       "      <td>1966</td>\n",
       "      <td>347</td>\n",
       "      <td>793</td>\n",
       "      <td>331</td>\n",
       "      <td>2.7750</td>\n",
       "      <td>NEAR BAY</td>\n",
       "    </tr>\n",
       "  </tbody>\n",
       "</table>\n",
       "</div>"
      ],
      "text/plain": [
       "   longitude  latitude  medianAge  totalRooms  bedrooms  population  \\\n",
       "0    -122.23     37.88         41         880       129         322   \n",
       "1    -122.25     37.85         52        1274       235         558   \n",
       "2    -122.25     37.85         52         919       213         413   \n",
       "3    -122.26     37.85         50        1120       283         697   \n",
       "4    -122.27     37.85         52        1966       347         793   \n",
       "\n",
       "   households  medianIncome oceanProximity  \n",
       "0         126        8.3252       NEAR BAY  \n",
       "1         219        5.6431       NEAR BAY  \n",
       "2         193        4.0368       NEAR BAY  \n",
       "3         264        2.1250       NEAR BAY  \n",
       "4         331        2.7750       NEAR BAY  "
      ]
     },
     "execution_count": 43,
     "metadata": {},
     "output_type": "execute_result"
    }
   ],
   "source": [
    "# First 5 Rows from Test Dataset.\n",
    "housingDataToPredict.head()"
   ]
  },
  {
   "cell_type": "markdown",
   "metadata": {},
   "source": [
    "Use .info() to see length and dtypes"
   ]
  },
  {
   "cell_type": "code",
   "execution_count": 44,
   "metadata": {},
   "outputs": [
    {
     "name": "stdout",
     "output_type": "stream",
     "text": [
      "<class 'pandas.core.frame.DataFrame'>\n",
      "RangeIndex: 14347 entries, 0 to 14346\n",
      "Data columns (total 10 columns):\n",
      "longitude           14347 non-null float64\n",
      "latitude            14347 non-null float64\n",
      "medianAge           14347 non-null int64\n",
      "totalRooms          14347 non-null int64\n",
      "bedrooms            14347 non-null int64\n",
      "population          14347 non-null int64\n",
      "households          14347 non-null int64\n",
      "medianIncome        14347 non-null float64\n",
      "medianHouseValue    14347 non-null int64\n",
      "oceanProximity      14347 non-null object\n",
      "dtypes: float64(3), int64(6), object(1)\n",
      "memory usage: 1.1+ MB\n",
      "\n",
      "# Housing Data Shape: (14347, 10)\n"
     ]
    }
   ],
   "source": [
    "housingData.info()\n",
    "print()\n",
    "print('# Housing Data Shape:', housingData.shape) ## 14347 rows and 10 columns"
   ]
  },
  {
   "cell_type": "code",
   "execution_count": 45,
   "metadata": {},
   "outputs": [
    {
     "name": "stdout",
     "output_type": "stream",
     "text": [
      "<class 'pandas.core.frame.DataFrame'>\n",
      "RangeIndex: 6086 entries, 0 to 6085\n",
      "Data columns (total 9 columns):\n",
      "longitude         6086 non-null float64\n",
      "latitude          6086 non-null float64\n",
      "medianAge         6086 non-null int64\n",
      "totalRooms        6086 non-null int64\n",
      "bedrooms          6086 non-null int64\n",
      "population        6086 non-null int64\n",
      "households        6086 non-null int64\n",
      "medianIncome      6086 non-null float64\n",
      "oceanProximity    6086 non-null object\n",
      "dtypes: float64(3), int64(5), object(1)\n",
      "memory usage: 428.0+ KB\n",
      "\n",
      "# Housing Data Predict Shape: (6086, 9)\n"
     ]
    }
   ],
   "source": [
    "# Need to Predict medianHouseValue for this Dataset.\n",
    "# This Test Dataset seems to have similar and expected columns ## 6086 rows and 9 columns\n",
    "housingDataToPredict.info()\n",
    "print()\n",
    "print('# Housing Data Predict Shape:', housingDataToPredict.shape) \n",
    "# oceanProximity is Object type."
   ]
  },
  {
   "cell_type": "code",
   "execution_count": 46,
   "metadata": {},
   "outputs": [
    {
     "data": {
      "text/plain": [
       "array([1106,  190,  280, ..., 2640, 1052, 1856])"
      ]
     },
     "execution_count": 46,
     "metadata": {},
     "output_type": "execute_result"
    }
   ],
   "source": [
    "pd.unique(housingData['bedrooms'])\n",
    "#Observing bedrooms columns, this data variables seems to be masked."
   ]
  },
  {
   "cell_type": "markdown",
   "metadata": {},
   "source": [
    "### ----- Clean the Data -----\n",
    "#### Checking for Duplicate data (There is None)"
   ]
  },
  {
   "cell_type": "raw",
   "metadata": {},
   "source": [
    "# Lets check for duplicate or missing data.\n",
    "# (there is none in this dataset)\n",
    "# housingData[\"bedrooms\"].fillna(housingData[\"bedrooms\"].median(), inplace=True)\n",
    "housingData.isna().sum()\n",
    "\n"
   ]
  },
  {
   "cell_type": "code",
   "execution_count": 47,
   "metadata": {
    "scrolled": true
   },
   "outputs": [
    {
     "data": {
      "text/plain": [
       "0"
      ]
     },
     "execution_count": 47,
     "metadata": {},
     "output_type": "execute_result"
    }
   ],
   "source": [
    "# Duplicate Entry for Train Data\n",
    "housingData.duplicated().sum()"
   ]
  },
  {
   "cell_type": "code",
   "execution_count": 48,
   "metadata": {},
   "outputs": [
    {
     "data": {
      "text/plain": [
       "0"
      ]
     },
     "execution_count": 48,
     "metadata": {},
     "output_type": "execute_result"
    }
   ],
   "source": [
    "# Duplicate Entry for Test Data\n",
    "housingDataToPredict.duplicated().sum()"
   ]
  },
  {
   "cell_type": "markdown",
   "metadata": {},
   "source": [
    "#### Checking for missing values\n",
    "Note there are No missing values for Train and Test Data set."
   ]
  },
  {
   "cell_type": "code",
   "execution_count": 49,
   "metadata": {},
   "outputs": [
    {
     "data": {
      "text/plain": [
       "longitude           0\n",
       "latitude            0\n",
       "medianAge           0\n",
       "totalRooms          0\n",
       "bedrooms            0\n",
       "population          0\n",
       "households          0\n",
       "medianIncome        0\n",
       "medianHouseValue    0\n",
       "oceanProximity      0\n",
       "dtype: int64"
      ]
     },
     "execution_count": 49,
     "metadata": {},
     "output_type": "execute_result"
    }
   ],
   "source": [
    "housingData.isnull().sum()"
   ]
  },
  {
   "cell_type": "code",
   "execution_count": 50,
   "metadata": {},
   "outputs": [
    {
     "data": {
      "text/plain": [
       "longitude         0\n",
       "latitude          0\n",
       "medianAge         0\n",
       "totalRooms        0\n",
       "bedrooms          0\n",
       "population        0\n",
       "households        0\n",
       "medianIncome      0\n",
       "oceanProximity    0\n",
       "dtype: int64"
      ]
     },
     "execution_count": 50,
     "metadata": {},
     "output_type": "execute_result"
    }
   ],
   "source": [
    "housingDataToPredict.isnull().sum()"
   ]
  },
  {
   "cell_type": "markdown",
   "metadata": {},
   "source": [
    "### ---- EDA (Exploratory Data Analysis) ----"
   ]
  },
  {
   "cell_type": "markdown",
   "metadata": {},
   "source": [
    "use corr() function to find the correlation among the columns"
   ]
  },
  {
   "cell_type": "code",
   "execution_count": 4,
   "metadata": {},
   "outputs": [
    {
     "data": {
      "text/html": [
       "<div>\n",
       "<style scoped>\n",
       "    .dataframe tbody tr th:only-of-type {\n",
       "        vertical-align: middle;\n",
       "    }\n",
       "\n",
       "    .dataframe tbody tr th {\n",
       "        vertical-align: top;\n",
       "    }\n",
       "\n",
       "    .dataframe thead th {\n",
       "        text-align: right;\n",
       "    }\n",
       "</style>\n",
       "<table border=\"1\" class=\"dataframe\">\n",
       "  <thead>\n",
       "    <tr style=\"text-align: right;\">\n",
       "      <th></th>\n",
       "      <th>longitude</th>\n",
       "      <th>latitude</th>\n",
       "      <th>medianAge</th>\n",
       "      <th>totalRooms</th>\n",
       "      <th>bedrooms</th>\n",
       "      <th>population</th>\n",
       "      <th>households</th>\n",
       "      <th>medianIncome</th>\n",
       "      <th>medianHouseValue</th>\n",
       "    </tr>\n",
       "  </thead>\n",
       "  <tbody>\n",
       "    <tr>\n",
       "      <th>longitude</th>\n",
       "      <td>1.000000</td>\n",
       "      <td>-0.925486</td>\n",
       "      <td>-0.113150</td>\n",
       "      <td>0.043123</td>\n",
       "      <td>0.067238</td>\n",
       "      <td>0.100398</td>\n",
       "      <td>0.053727</td>\n",
       "      <td>-0.013178</td>\n",
       "      <td>-0.045552</td>\n",
       "    </tr>\n",
       "    <tr>\n",
       "      <th>latitude</th>\n",
       "      <td>-0.925486</td>\n",
       "      <td>1.000000</td>\n",
       "      <td>0.017669</td>\n",
       "      <td>-0.035655</td>\n",
       "      <td>-0.066938</td>\n",
       "      <td>-0.109409</td>\n",
       "      <td>-0.070296</td>\n",
       "      <td>-0.081769</td>\n",
       "      <td>-0.145125</td>\n",
       "    </tr>\n",
       "    <tr>\n",
       "      <th>medianAge</th>\n",
       "      <td>-0.113150</td>\n",
       "      <td>0.017669</td>\n",
       "      <td>1.000000</td>\n",
       "      <td>-0.360127</td>\n",
       "      <td>-0.317004</td>\n",
       "      <td>-0.293783</td>\n",
       "      <td>-0.298755</td>\n",
       "      <td>-0.120651</td>\n",
       "      <td>0.101994</td>\n",
       "    </tr>\n",
       "    <tr>\n",
       "      <th>totalRooms</th>\n",
       "      <td>0.043123</td>\n",
       "      <td>-0.035655</td>\n",
       "      <td>-0.360127</td>\n",
       "      <td>1.000000</td>\n",
       "      <td>0.928891</td>\n",
       "      <td>0.852882</td>\n",
       "      <td>0.919542</td>\n",
       "      <td>0.200106</td>\n",
       "      <td>0.133720</td>\n",
       "    </tr>\n",
       "    <tr>\n",
       "      <th>bedrooms</th>\n",
       "      <td>0.067238</td>\n",
       "      <td>-0.066938</td>\n",
       "      <td>-0.317004</td>\n",
       "      <td>0.928891</td>\n",
       "      <td>1.000000</td>\n",
       "      <td>0.874331</td>\n",
       "      <td>0.981348</td>\n",
       "      <td>-0.008745</td>\n",
       "      <td>0.051974</td>\n",
       "    </tr>\n",
       "    <tr>\n",
       "      <th>population</th>\n",
       "      <td>0.100398</td>\n",
       "      <td>-0.109409</td>\n",
       "      <td>-0.293783</td>\n",
       "      <td>0.852882</td>\n",
       "      <td>0.874331</td>\n",
       "      <td>1.000000</td>\n",
       "      <td>0.901575</td>\n",
       "      <td>0.003010</td>\n",
       "      <td>-0.028193</td>\n",
       "    </tr>\n",
       "    <tr>\n",
       "      <th>households</th>\n",
       "      <td>0.053727</td>\n",
       "      <td>-0.070296</td>\n",
       "      <td>-0.298755</td>\n",
       "      <td>0.919542</td>\n",
       "      <td>0.981348</td>\n",
       "      <td>0.901575</td>\n",
       "      <td>1.000000</td>\n",
       "      <td>0.012340</td>\n",
       "      <td>0.066503</td>\n",
       "    </tr>\n",
       "    <tr>\n",
       "      <th>medianIncome</th>\n",
       "      <td>-0.013178</td>\n",
       "      <td>-0.081769</td>\n",
       "      <td>-0.120651</td>\n",
       "      <td>0.200106</td>\n",
       "      <td>-0.008745</td>\n",
       "      <td>0.003010</td>\n",
       "      <td>0.012340</td>\n",
       "      <td>1.000000</td>\n",
       "      <td>0.685675</td>\n",
       "    </tr>\n",
       "    <tr>\n",
       "      <th>medianHouseValue</th>\n",
       "      <td>-0.045552</td>\n",
       "      <td>-0.145125</td>\n",
       "      <td>0.101994</td>\n",
       "      <td>0.133720</td>\n",
       "      <td>0.051974</td>\n",
       "      <td>-0.028193</td>\n",
       "      <td>0.066503</td>\n",
       "      <td>0.685675</td>\n",
       "      <td>1.000000</td>\n",
       "    </tr>\n",
       "  </tbody>\n",
       "</table>\n",
       "</div>"
      ],
      "text/plain": [
       "                  longitude  latitude  medianAge  totalRooms  bedrooms  \\\n",
       "longitude          1.000000 -0.925486  -0.113150    0.043123  0.067238   \n",
       "latitude          -0.925486  1.000000   0.017669   -0.035655 -0.066938   \n",
       "medianAge         -0.113150  0.017669   1.000000   -0.360127 -0.317004   \n",
       "totalRooms         0.043123 -0.035655  -0.360127    1.000000  0.928891   \n",
       "bedrooms           0.067238 -0.066938  -0.317004    0.928891  1.000000   \n",
       "population         0.100398 -0.109409  -0.293783    0.852882  0.874331   \n",
       "households         0.053727 -0.070296  -0.298755    0.919542  0.981348   \n",
       "medianIncome      -0.013178 -0.081769  -0.120651    0.200106 -0.008745   \n",
       "medianHouseValue  -0.045552 -0.145125   0.101994    0.133720  0.051974   \n",
       "\n",
       "                  population  households  medianIncome  medianHouseValue  \n",
       "longitude           0.100398    0.053727     -0.013178         -0.045552  \n",
       "latitude           -0.109409   -0.070296     -0.081769         -0.145125  \n",
       "medianAge          -0.293783   -0.298755     -0.120651          0.101994  \n",
       "totalRooms          0.852882    0.919542      0.200106          0.133720  \n",
       "bedrooms            0.874331    0.981348     -0.008745          0.051974  \n",
       "population          1.000000    0.901575      0.003010         -0.028193  \n",
       "households          0.901575    1.000000      0.012340          0.066503  \n",
       "medianIncome        0.003010    0.012340      1.000000          0.685675  \n",
       "medianHouseValue   -0.028193    0.066503      0.685675          1.000000  "
      ]
     },
     "execution_count": 4,
     "metadata": {},
     "output_type": "execute_result"
    }
   ],
   "source": [
    "housingData.corr(method ='pearson') \n",
    "## We notice that median income is strongly correlated with median House value, followed by total rooms and median age."
   ]
  },
  {
   "cell_type": "code",
   "execution_count": 52,
   "metadata": {},
   "outputs": [
    {
     "data": {
      "text/html": [
       "<div>\n",
       "<style scoped>\n",
       "    .dataframe tbody tr th:only-of-type {\n",
       "        vertical-align: middle;\n",
       "    }\n",
       "\n",
       "    .dataframe tbody tr th {\n",
       "        vertical-align: top;\n",
       "    }\n",
       "\n",
       "    .dataframe thead th {\n",
       "        text-align: right;\n",
       "    }\n",
       "</style>\n",
       "<table border=\"1\" class=\"dataframe\">\n",
       "  <thead>\n",
       "    <tr style=\"text-align: right;\">\n",
       "      <th></th>\n",
       "      <th>longitude</th>\n",
       "      <th>latitude</th>\n",
       "      <th>medianAge</th>\n",
       "      <th>totalRooms</th>\n",
       "      <th>bedrooms</th>\n",
       "      <th>population</th>\n",
       "      <th>households</th>\n",
       "      <th>medianIncome</th>\n",
       "      <th>medianHouseValue</th>\n",
       "    </tr>\n",
       "  </thead>\n",
       "  <tbody>\n",
       "    <tr>\n",
       "      <th>count</th>\n",
       "      <td>14347.000000</td>\n",
       "      <td>14347.000000</td>\n",
       "      <td>14347.000000</td>\n",
       "      <td>14347.000000</td>\n",
       "      <td>14347.000000</td>\n",
       "      <td>14347.00000</td>\n",
       "      <td>14347.000000</td>\n",
       "      <td>14347.000000</td>\n",
       "      <td>14347.00000</td>\n",
       "    </tr>\n",
       "    <tr>\n",
       "      <th>mean</th>\n",
       "      <td>-119.585388</td>\n",
       "      <td>35.645099</td>\n",
       "      <td>28.685509</td>\n",
       "      <td>2613.953440</td>\n",
       "      <td>534.656026</td>\n",
       "      <td>1417.09082</td>\n",
       "      <td>496.986548</td>\n",
       "      <td>3.855934</td>\n",
       "      <td>206162.46386</td>\n",
       "    </tr>\n",
       "    <tr>\n",
       "      <th>std</th>\n",
       "      <td>2.006099</td>\n",
       "      <td>2.136650</td>\n",
       "      <td>12.618017</td>\n",
       "      <td>2114.055576</td>\n",
       "      <td>414.032843</td>\n",
       "      <td>1113.02647</td>\n",
       "      <td>378.208602</td>\n",
       "      <td>1.872313</td>\n",
       "      <td>115110.19972</td>\n",
       "    </tr>\n",
       "    <tr>\n",
       "      <th>min</th>\n",
       "      <td>-124.300000</td>\n",
       "      <td>32.540000</td>\n",
       "      <td>1.000000</td>\n",
       "      <td>6.000000</td>\n",
       "      <td>1.000000</td>\n",
       "      <td>3.00000</td>\n",
       "      <td>1.000000</td>\n",
       "      <td>0.499900</td>\n",
       "      <td>14999.00000</td>\n",
       "    </tr>\n",
       "    <tr>\n",
       "      <th>25%</th>\n",
       "      <td>-121.800000</td>\n",
       "      <td>33.940000</td>\n",
       "      <td>18.000000</td>\n",
       "      <td>1449.500000</td>\n",
       "      <td>296.000000</td>\n",
       "      <td>788.50000</td>\n",
       "      <td>280.000000</td>\n",
       "      <td>2.562500</td>\n",
       "      <td>118800.00000</td>\n",
       "    </tr>\n",
       "    <tr>\n",
       "      <th>50%</th>\n",
       "      <td>-118.510000</td>\n",
       "      <td>34.260000</td>\n",
       "      <td>29.000000</td>\n",
       "      <td>2112.000000</td>\n",
       "      <td>433.000000</td>\n",
       "      <td>1164.00000</td>\n",
       "      <td>409.000000</td>\n",
       "      <td>3.530200</td>\n",
       "      <td>178900.00000</td>\n",
       "    </tr>\n",
       "    <tr>\n",
       "      <th>75%</th>\n",
       "      <td>-118.010000</td>\n",
       "      <td>37.720000</td>\n",
       "      <td>37.000000</td>\n",
       "      <td>3124.000000</td>\n",
       "      <td>641.000000</td>\n",
       "      <td>1718.00000</td>\n",
       "      <td>600.000000</td>\n",
       "      <td>4.736400</td>\n",
       "      <td>264300.00000</td>\n",
       "    </tr>\n",
       "    <tr>\n",
       "      <th>max</th>\n",
       "      <td>-114.310000</td>\n",
       "      <td>41.950000</td>\n",
       "      <td>52.000000</td>\n",
       "      <td>37937.000000</td>\n",
       "      <td>5471.000000</td>\n",
       "      <td>35682.00000</td>\n",
       "      <td>5189.000000</td>\n",
       "      <td>15.000100</td>\n",
       "      <td>500001.00000</td>\n",
       "    </tr>\n",
       "  </tbody>\n",
       "</table>\n",
       "</div>"
      ],
      "text/plain": [
       "          longitude      latitude     medianAge    totalRooms      bedrooms  \\\n",
       "count  14347.000000  14347.000000  14347.000000  14347.000000  14347.000000   \n",
       "mean    -119.585388     35.645099     28.685509   2613.953440    534.656026   \n",
       "std        2.006099      2.136650     12.618017   2114.055576    414.032843   \n",
       "min     -124.300000     32.540000      1.000000      6.000000      1.000000   \n",
       "25%     -121.800000     33.940000     18.000000   1449.500000    296.000000   \n",
       "50%     -118.510000     34.260000     29.000000   2112.000000    433.000000   \n",
       "75%     -118.010000     37.720000     37.000000   3124.000000    641.000000   \n",
       "max     -114.310000     41.950000     52.000000  37937.000000   5471.000000   \n",
       "\n",
       "        population    households  medianIncome  medianHouseValue  \n",
       "count  14347.00000  14347.000000  14347.000000       14347.00000  \n",
       "mean    1417.09082    496.986548      3.855934      206162.46386  \n",
       "std     1113.02647    378.208602      1.872313      115110.19972  \n",
       "min        3.00000      1.000000      0.499900       14999.00000  \n",
       "25%      788.50000    280.000000      2.562500      118800.00000  \n",
       "50%     1164.00000    409.000000      3.530200      178900.00000  \n",
       "75%     1718.00000    600.000000      4.736400      264300.00000  \n",
       "max    35682.00000   5189.000000     15.000100      500001.00000  "
      ]
     },
     "execution_count": 52,
     "metadata": {},
     "output_type": "execute_result"
    }
   ],
   "source": [
    "housingData.describe(include = [np.number])"
   ]
  },
  {
   "cell_type": "markdown",
   "metadata": {},
   "source": [
    "### Visualize target variable (medianHouseValue)"
   ]
  },
  {
   "cell_type": "code",
   "execution_count": 5,
   "metadata": {},
   "outputs": [
    {
     "data": {
      "image/png": "[encoded data removed]",
      "text/plain": [
       "<Figure size 1008x432 with 2 Axes>"
      ]
     },
     "metadata": {
      "needs_background": "light"
     },
     "output_type": "display_data"
    }
   ],
   "source": [
    "plt.figure(figsize=(14,6))\n",
    "plt.subplot(1,2,1)\n",
    "sns.boxplot(housingData['medianHouseValue'])\n",
    "plt.subplot(1,2,2)\n",
    "sns.distplot(housingData['medianHouseValue'], bins = 20)\n",
    "plt.show()\n",
    "## DAtaset doesnt have any bad data like $0 value etc."
   ]
  },
  {
   "cell_type": "code",
   "execution_count": 53,
   "metadata": {},
   "outputs": [
    {
     "data": {
      "text/plain": [
       "array(['NEAR BAY', '<1H OCEAN', 'INLAND', 'NEAR OCEAN', 'ISLAND'],\n",
       "      dtype=object)"
      ]
     },
     "execution_count": 53,
     "metadata": {},
     "output_type": "execute_result"
    }
   ],
   "source": [
    "## Observing the categorical variable, oceanProximity.\n",
    "pd.unique(housingData['oceanProximity'])"
   ]
  },
  {
   "cell_type": "code",
   "execution_count": 27,
   "metadata": {},
   "outputs": [
    {
     "data": {
      "text/plain": [
       "array(['NEAR BAY', '<1H OCEAN', 'INLAND', 'NEAR OCEAN', 'ISLAND'],\n",
       "      dtype=object)"
      ]
     },
     "execution_count": 27,
     "metadata": {},
     "output_type": "execute_result"
    }
   ],
   "source": [
    "## Check the same values in Test Dataset (they are same)\n",
    "pd.unique(housingDataToPredict['oceanProximity'])"
   ]
  },
  {
   "cell_type": "code",
   "execution_count": 54,
   "metadata": {},
   "outputs": [
    {
     "data": {
      "text/plain": [
       "<matplotlib.axes._subplots.AxesSubplot at 0x7f61f3feda90>"
      ]
     },
     "execution_count": 54,
     "metadata": {},
     "output_type": "execute_result"
    },
    {
     "data": {
      "image/png": "[encoded data removed]",
      "text/plain": [
       "<Figure size 432x288 with 1 Axes>"
      ]
     },
     "metadata": {
      "needs_background": "light"
     },
     "output_type": "display_data"
    }
   ],
   "source": [
    "sns.countplot(x='oceanProximity', data=housingData)"
   ]
  },
  {
   "cell_type": "code",
   "execution_count": 6,
   "metadata": {},
   "outputs": [],
   "source": [
    "## Transforming categorical column into Numeric for Data Modeling.\n",
    "housingData.oceanProximity.replace('NEAR BAY','0',inplace=True)\n",
    "housingData.oceanProximity.replace('<1H OCEAN','1',inplace=True)\n",
    "housingData.oceanProximity.replace('INLAND','2',inplace=True)\n",
    "housingData.oceanProximity.replace('NEAR OCEAN','3',inplace=True)\n",
    "housingData.oceanProximity.replace('ISLAND','3',inplace=True)"
   ]
  },
  {
   "cell_type": "code",
   "execution_count": 7,
   "metadata": {},
   "outputs": [
    {
     "data": {
      "text/html": [
       "<div>\n",
       "<style scoped>\n",
       "    .dataframe tbody tr th:only-of-type {\n",
       "        vertical-align: middle;\n",
       "    }\n",
       "\n",
       "    .dataframe tbody tr th {\n",
       "        vertical-align: top;\n",
       "    }\n",
       "\n",
       "    .dataframe thead th {\n",
       "        text-align: right;\n",
       "    }\n",
       "</style>\n",
       "<table border=\"1\" class=\"dataframe\">\n",
       "  <thead>\n",
       "    <tr style=\"text-align: right;\">\n",
       "      <th></th>\n",
       "      <th>longitude</th>\n",
       "      <th>latitude</th>\n",
       "      <th>medianAge</th>\n",
       "      <th>totalRooms</th>\n",
       "      <th>bedrooms</th>\n",
       "      <th>population</th>\n",
       "      <th>households</th>\n",
       "      <th>medianIncome</th>\n",
       "      <th>medianHouseValue</th>\n",
       "      <th>oceanProximity</th>\n",
       "    </tr>\n",
       "  </thead>\n",
       "  <tbody>\n",
       "    <tr>\n",
       "      <th>0</th>\n",
       "      <td>-122.22</td>\n",
       "      <td>37.86</td>\n",
       "      <td>21</td>\n",
       "      <td>7099</td>\n",
       "      <td>1106</td>\n",
       "      <td>2401</td>\n",
       "      <td>1138</td>\n",
       "      <td>8.3014</td>\n",
       "      <td>358500</td>\n",
       "      <td>0</td>\n",
       "    </tr>\n",
       "    <tr>\n",
       "      <th>1</th>\n",
       "      <td>-122.24</td>\n",
       "      <td>37.85</td>\n",
       "      <td>52</td>\n",
       "      <td>1467</td>\n",
       "      <td>190</td>\n",
       "      <td>496</td>\n",
       "      <td>177</td>\n",
       "      <td>7.2574</td>\n",
       "      <td>352100</td>\n",
       "      <td>0</td>\n",
       "    </tr>\n",
       "    <tr>\n",
       "      <th>2</th>\n",
       "      <td>-122.25</td>\n",
       "      <td>37.85</td>\n",
       "      <td>52</td>\n",
       "      <td>1627</td>\n",
       "      <td>280</td>\n",
       "      <td>565</td>\n",
       "      <td>259</td>\n",
       "      <td>3.8462</td>\n",
       "      <td>342200</td>\n",
       "      <td>0</td>\n",
       "    </tr>\n",
       "    <tr>\n",
       "      <th>3</th>\n",
       "      <td>-122.25</td>\n",
       "      <td>37.84</td>\n",
       "      <td>52</td>\n",
       "      <td>2535</td>\n",
       "      <td>489</td>\n",
       "      <td>1094</td>\n",
       "      <td>514</td>\n",
       "      <td>3.6591</td>\n",
       "      <td>299200</td>\n",
       "      <td>0</td>\n",
       "    </tr>\n",
       "    <tr>\n",
       "      <th>4</th>\n",
       "      <td>-122.25</td>\n",
       "      <td>37.84</td>\n",
       "      <td>52</td>\n",
       "      <td>3104</td>\n",
       "      <td>687</td>\n",
       "      <td>1157</td>\n",
       "      <td>647</td>\n",
       "      <td>3.1200</td>\n",
       "      <td>241400</td>\n",
       "      <td>0</td>\n",
       "    </tr>\n",
       "  </tbody>\n",
       "</table>\n",
       "</div>"
      ],
      "text/plain": [
       "   longitude  latitude  medianAge  totalRooms  bedrooms  population  \\\n",
       "0    -122.22     37.86         21        7099      1106        2401   \n",
       "1    -122.24     37.85         52        1467       190         496   \n",
       "2    -122.25     37.85         52        1627       280         565   \n",
       "3    -122.25     37.84         52        2535       489        1094   \n",
       "4    -122.25     37.84         52        3104       687        1157   \n",
       "\n",
       "   households  medianIncome  medianHouseValue oceanProximity  \n",
       "0        1138        8.3014            358500              0  \n",
       "1         177        7.2574            352100              0  \n",
       "2         259        3.8462            342200              0  \n",
       "3         514        3.6591            299200              0  \n",
       "4         647        3.1200            241400              0  "
      ]
     },
     "execution_count": 7,
     "metadata": {},
     "output_type": "execute_result"
    }
   ],
   "source": [
    "housingData.head()"
   ]
  },
  {
   "cell_type": "code",
   "execution_count": 8,
   "metadata": {},
   "outputs": [
    {
     "name": "stdout",
     "output_type": "stream",
     "text": [
      "Data type for oceanProximity column: int64\n"
     ]
    }
   ],
   "source": [
    "housingData.oceanProximity = housingData.oceanProximity.astype('int')\n",
    "print(\"Data type for oceanProximity column:\", housingData.oceanProximity.dtypes)"
   ]
  },
  {
   "cell_type": "code",
   "execution_count": 9,
   "metadata": {},
   "outputs": [
    {
     "data": {
      "image/png": "[encoded data removed]",
      "text/plain": [
       "<Figure size 864x720 with 2 Axes>"
      ]
     },
     "metadata": {
      "needs_background": "light"
     },
     "output_type": "display_data"
    }
   ],
   "source": [
    "# Correlations between selected features and response\n",
    "\n",
    "fig = plt.figure(figsize=(12, 10))\n",
    "features = ['longitude','latitude','medianAge','totalRooms','bedrooms','population','households','medianIncome','oceanProximity']\n",
    "sns.heatmap(housingData[features + ['medianHouseValue']].corr(), cmap='Blues', annot=True)\n",
    "plt.xticks(rotation=45)\n",
    "plt.show()"
   ]
  },
  {
   "cell_type": "markdown",
   "metadata": {},
   "source": [
    "We notice that median income is strongly correlated with median House value, followed by total rooms and median age."
   ]
  },
  {
   "cell_type": "code",
   "execution_count": 10,
   "metadata": {},
   "outputs": [],
   "source": [
    "# Set your factors and response\n",
    "factors = housingData[['longitude','latitude','medianAge','totalRooms','bedrooms','population','households','medianIncome','oceanProximity']]\n",
    "response = housingData['medianHouseValue']"
   ]
  },
  {
   "cell_type": "code",
   "execution_count": 11,
   "metadata": {},
   "outputs": [],
   "source": [
    "# Build your train and test datasets\n",
    "\n",
    "\n",
    "testSize = 0.2\n",
    "trainFactors, testFactors, trainResponse, testResponse = train_test_split(factors, response, test_size=testSize, random_state=42)"
   ]
  },
  {
   "cell_type": "markdown",
   "metadata": {},
   "source": [
    "#### ---- Building Models ----\n",
    "## Linear Support Vector Regression"
   ]
  },
  {
   "cell_type": "code",
   "execution_count": 12,
   "metadata": {},
   "outputs": [],
   "source": [
    "#Import LinearSVR\n",
    "from sklearn.svm import LinearSVR"
   ]
  },
  {
   "cell_type": "code",
   "execution_count": 13,
   "metadata": {},
   "outputs": [],
   "source": [
    "# Define the SVR object\n",
    "lin_svr = LinearSVR(random_state=42)"
   ]
  },
  {
   "cell_type": "code",
   "execution_count": 14,
   "metadata": {},
   "outputs": [
    {
     "data": {
      "text/plain": [
       "LinearSVR(C=1.0, dual=True, epsilon=0.0, fit_intercept=True,\n",
       "     intercept_scaling=1.0, loss='epsilon_insensitive', max_iter=1000,\n",
       "     random_state=42, tol=0.0001, verbose=0)"
      ]
     },
     "execution_count": 14,
     "metadata": {},
     "output_type": "execute_result"
    }
   ],
   "source": [
    "# Build the model fit using the training set\n",
    "lin_svr.fit(trainFactors, trainResponse)"
   ]
  },
  {
   "cell_type": "code",
   "execution_count": 15,
   "metadata": {},
   "outputs": [],
   "source": [
    "# Get the response for the test set\n",
    "svrResponse = lin_svr.predict(testFactors)"
   ]
  },
  {
   "cell_type": "code",
   "execution_count": 16,
   "metadata": {},
   "outputs": [
    {
     "data": {
      "text/plain": [
       "-2.429510574057529"
      ]
     },
     "execution_count": 16,
     "metadata": {},
     "output_type": "execute_result"
    }
   ],
   "source": [
    "# Get rSquare Value\n",
    "from sklearn.metrics import r2_score\n",
    "svrR2score = r2_score(svrResponse, testResponse)\n",
    "svrR2score"
   ]
  },
  {
   "cell_type": "code",
   "execution_count": 17,
   "metadata": {},
   "outputs": [
    {
     "name": "stderr",
     "output_type": "stream",
     "text": [
      "[Parallel(n_jobs=1)]: Using backend SequentialBackend with 1 concurrent workers.\n",
      "[Parallel(n_jobs=1)]: Done  10 out of  10 | elapsed:    1.2s finished\n",
      "[Parallel(n_jobs=1)]: Using backend SequentialBackend with 1 concurrent workers.\n",
      "[Parallel(n_jobs=1)]: Done  10 out of  10 | elapsed:    0.0s finished\n"
     ]
    },
    {
     "data": {
      "text/plain": [
       "0.7551124623198039"
      ]
     },
     "execution_count": 17,
     "metadata": {},
     "output_type": "execute_result"
    }
   ],
   "source": [
    "# RandomForest\n",
    "#from sklearn.ensemble import RandomForestRegressor\n",
    "randomForestModel = RandomForestRegressor(n_estimators=10, min_samples_split=2, verbose = True,random_state=82)\n",
    "randomForestModel.fit(trainFactors, trainResponse)\n",
    "randomForestResponse = randomForestModel.predict(testFactors)\n",
    "randomForestR2score = r2_score(randomForestResponse, testResponse)\n",
    "randomForestR2score"
   ]
  },
  {
   "cell_type": "code",
   "execution_count": 18,
   "metadata": {},
   "outputs": [
    {
     "data": {
      "text/plain": [
       "0.4691699158574404"
      ]
     },
     "execution_count": 18,
     "metadata": {},
     "output_type": "execute_result"
    }
   ],
   "source": [
    "# Linear Regression\n",
    "from sklearn.linear_model import LinearRegression\n",
    "\n",
    "linearRegressionModel = LinearRegression()\n",
    "# Train the model using the training sets\n",
    "linearRegressionModel.fit(trainFactors, trainResponse)\n",
    "\n",
    "# Make predictions using the testing set\n",
    "linearRegressionResponse = linearRegressionModel.predict(testFactors)\n",
    "linearRegressionR2score = r2_score(linearRegressionResponse, testResponse)\n",
    "linearRegressionR2score"
   ]
  },
  {
   "cell_type": "code",
   "execution_count": 19,
   "metadata": {},
   "outputs": [
    {
     "name": "stdout",
     "output_type": "stream",
     "text": [
      "Coefficients: \n",
      " [-4.23996116e+04 -4.23541590e+04  1.06832572e+03 -8.21243770e+00\n",
      "  1.26795858e+02 -3.66565401e+01  2.83541880e+01  4.03688889e+04\n",
      " -3.98201202e+03]\n"
     ]
    }
   ],
   "source": [
    "# The coefficients\n",
    "print('Coefficients: \\n', linearRegressionModel.coef_)"
   ]
  },
  {
   "cell_type": "code",
   "execution_count": 20,
   "metadata": {},
   "outputs": [
    {
     "name": "stdout",
     "output_type": "stream",
     "text": [
      "Linear Regression: \n",
      " Predicted Price:  164745.1073735198  \n",
      "   Actual Price:  330200\n",
      "Random Forest: \n",
      " Predicted Price:  221320.0  \n",
      "   Actual Price:  330200\n",
      "SVR: \n",
      " Predicted Price:  128935.68773079547  \n",
      "   Actual Price:  330200\n"
     ]
    }
   ],
   "source": [
    "spotCheck = 410\n",
    "print(\"Linear Regression: \\n Predicted Price:  {}  \\n   Actual Price:  {}\".format(linearRegressionResponse[spotCheck], testResponse[spotCheck]))\n",
    "print(\"Random Forest: \\n Predicted Price:  {}  \\n   Actual Price:  {}\".format(randomForestResponse[spotCheck], testResponse[spotCheck]))\n",
    "print(\"SVR: \\n Predicted Price:  {}  \\n   Actual Price:  {}\".format(svrResponse[spotCheck], testResponse[spotCheck]))\n",
    "## RandomForest is good among these 3 modesls."
   ]
  },
  {
   "cell_type": "code",
   "execution_count": 21,
   "metadata": {},
   "outputs": [
    {
     "data": {
      "text/plain": [
       "0.46915314620534554"
      ]
     },
     "execution_count": 21,
     "metadata": {},
     "output_type": "execute_result"
    }
   ],
   "source": [
    "## Test further Models for better score\n",
    "# Lasso Regession.\n",
    "\n",
    "from sklearn.linear_model import Lasso\n",
    "\n",
    "#lassoReg = Lasso(alpha=0.2, normalize=True, random_state=21) ## Gives same results even after changing alpha.\n",
    "lassoReg = Lasso(random_state=20)\n",
    "lassoReg.fit(trainFactors, trainResponse)\n",
    "\n",
    "lassoResponse = lassoReg.predict(testFactors)\n",
    "\n",
    "lassoRegR2score = r2_score(lassoResponse, testResponse)\n",
    "lassoRegR2score"
   ]
  },
  {
   "cell_type": "code",
   "execution_count": 22,
   "metadata": {},
   "outputs": [
    {
     "data": {
      "text/plain": [
       "0.4691088301381845"
      ]
     },
     "execution_count": 22,
     "metadata": {},
     "output_type": "execute_result"
    }
   ],
   "source": [
    "## Ridge Regression.\n",
    "\n",
    "from sklearn.linear_model import Ridge\n",
    "#ridgeReg = Ridge(alpha=0.001, normalize=True) # It gives 0.465\n",
    "ridgeReg = Ridge(random_state=21)\n",
    "ridgeReg.fit(trainFactors, trainResponse)\n",
    "\n",
    "ridgeResponse = ridgeReg.predict(testFactors)\n",
    "#ridgeReg.score(testFactors,testResponse)\n",
    "ridgeRegR2score = r2_score(ridgeResponse, testResponse)\n",
    "ridgeRegR2score"
   ]
  },
  {
   "cell_type": "code",
   "execution_count": 23,
   "metadata": {},
   "outputs": [
    {
     "data": {
      "text/plain": [
       "0.6443367388809095"
      ]
     },
     "execution_count": 23,
     "metadata": {},
     "output_type": "execute_result"
    }
   ],
   "source": [
    "## Decision Tree Regressor\n",
    "\n",
    "from sklearn.tree import DecisionTreeRegressor\n",
    "DTregressor = DecisionTreeRegressor(criterion='mae', splitter='best', max_depth=10, \n",
    "                                    min_samples_split=2, min_samples_leaf=1, min_weight_fraction_leaf=0.0, \n",
    "                                    max_features='auto', random_state=2, max_leaf_nodes=None, \n",
    "                                    min_impurity_decrease=0.01, min_impurity_split=None, presort=False)\n",
    "\n",
    "DTregressor.fit(trainFactors,trainResponse)\n",
    "DTResponse = DTregressor.predict(testFactors)\n",
    "DTR2score = r2_score(DTResponse, testResponse)\n",
    "DTR2score"
   ]
  },
  {
   "cell_type": "code",
   "execution_count": 24,
   "metadata": {},
   "outputs": [
    {
     "data": {
      "text/plain": [
       "0.79625904580282"
      ]
     },
     "execution_count": 24,
     "metadata": {},
     "output_type": "execute_result"
    }
   ],
   "source": [
    "## Gradient Boosting Regressor\n",
    "\n",
    "from sklearn import ensemble\n",
    "ensemblemodel = ensemble.GradientBoostingRegressor(n_estimators=145, max_depth = 4, min_samples_split = 2,\n",
    "                                                    learning_rate = 0.2, loss = 'ls', random_state=43)\n",
    "\n",
    "ensemblemodel.fit(trainFactors, trainResponse)\n",
    "\n",
    "ensembleResponse = ensemblemodel.predict(testFactors)\n",
    "ensembleR2score = r2_score(ensembleResponse, testResponse)\n",
    "ensembleR2score"
   ]
  },
  {
   "cell_type": "code",
   "execution_count": 25,
   "metadata": {},
   "outputs": [
    {
     "data": {
      "text/plain": [
       "0.8164043110512123"
      ]
     },
     "execution_count": 25,
     "metadata": {},
     "output_type": "execute_result"
    }
   ],
   "source": [
    "## ## Gradient Boosting Regressor - Tuning Parameters (has best R2 Score)\n",
    " \n",
    "\n",
    "ensemblemodel1 = ensemble.GradientBoostingRegressor( init=None,\n",
    " learning_rate=0.15, loss='ls', max_depth=6,\n",
    "   min_samples_leaf=4, n_estimators=600,  random_state=22,\n",
    "  verbose=0)\n",
    "\n",
    "\n",
    "ensemblemodel1.fit(trainFactors, trainResponse)\n",
    "\n",
    "ensembleResponse1 = ensemblemodel1.predict(testFactors)\n",
    "ensembleR2score1 = r2_score(ensembleResponse1, testResponse)\n",
    "ensembleR2score1"
   ]
  },
  {
   "cell_type": "markdown",
   "metadata": {
    "collapsed": true
   },
   "source": [
    "#### Median Income is most important  feature, followed by Ocean Proximity."
   ]
  },
  {
   "cell_type": "code",
   "execution_count": 28,
   "metadata": {
    "scrolled": true
   },
   "outputs": [
    {
     "data": {
      "text/plain": [
       "Text(0, 0.5, 'Feature Importance Score')"
      ]
     },
     "execution_count": 28,
     "metadata": {},
     "output_type": "execute_result"
    },
    {
     "data": {
      "image/png": "[encoded data removed]",
      "text/plain": [
       "<Figure size 432x288 with 1 Axes>"
      ]
     },
     "metadata": {
      "needs_background": "light"
     },
     "output_type": "display_data"
    }
   ],
   "source": [
    "import matplotlib.pyplot as plt\n",
    "\n",
    "from sklearn.metrics import classification_report\n",
    "\n",
    "predictors=list(trainFactors)\n",
    "feat_imp = pd.Series(ensemblemodel1.feature_importances_, predictors).sort_values(ascending=False)\n",
    "feat_imp.plot(kind='bar', title='Importance of Features')\n",
    "plt.ylabel('Feature Importance Score')\n"
   ]
  },
  {
   "cell_type": "code",
   "execution_count": 21,
   "metadata": {},
   "outputs": [
    {
     "data": {
      "text/plain": [
       "array(['NEAR BAY', '<1H OCEAN', 'INLAND', 'NEAR OCEAN', 'ISLAND'],\n",
       "      dtype=object)"
      ]
     },
     "execution_count": 21,
     "metadata": {},
     "output_type": "execute_result"
    }
   ],
   "source": [
    "pd.unique(housingDataToPredict['oceanProximity'])"
   ]
  },
  {
   "cell_type": "markdown",
   "metadata": {},
   "source": [
    "### ---- Tuning the parameters ----"
   ]
  },
  {
   "cell_type": "code",
   "execution_count": 36,
   "metadata": {},
   "outputs": [
    {
     "data": {
      "text/plain": [
       "0.8197074820167098"
      ]
     },
     "execution_count": 36,
     "metadata": {},
     "output_type": "execute_result"
    }
   ],
   "source": [
    "# Get best model to deploy.\n",
    "\n",
    "bestModel = ensemble.GradientBoostingRegressor( init=None, learning_rate=0.15, loss='ls', max_depth=6,\n",
    "                                                min_samples_leaf=1, n_estimators=600,  random_state=22,\n",
    "                                                min_samples_split=2,verbose=0)\n",
    "\n",
    "\n",
    "bestModel.fit(trainFactors, trainResponse)\n",
    "\n",
    "bestModelResponse = bestModel.predict(testFactors)\n",
    "bestModelR2score = r2_score(bestModelResponse, testResponse)\n",
    "bestModelR2score"
   ]
  },
  {
   "cell_type": "markdown",
   "metadata": {},
   "source": [
    "### ---- Deploy & Automate Pipeline ----"
   ]
  },
  {
   "cell_type": "code",
   "execution_count": 37,
   "metadata": {},
   "outputs": [],
   "source": [
    "def load_data(data_file):\n",
    "    '''function to read a csv into a df'''\n",
    "    return pd.read_csv(data_file)\n",
    "\n",
    "def transform_data(df ):\n",
    "    df.replace(cleanup_nums, inplace=True)\n",
    "    \n",
    "    return df\n",
    "\n",
    "\n",
    "\n",
    "def get_factors(df,ftr_vars):\n",
    "    \n",
    "    return df[ftr_vars]\n",
    "\n",
    "\n",
    "def get_target_df(df, target):\n",
    "    '''returns target dataframe'''\n",
    "    return df[target]\n",
    "\n",
    "\n",
    "\n",
    "\n",
    "\n",
    "def get_predictions(model, df_predict):\n",
    "    '''function to preprocess test_df and make predictions from features'''\n",
    "   \n",
    "    predictions = model.predict(df_predict)\n",
    "    return predictions\n",
    "\n",
    "\n",
    "def save_results(model, predictions):\n",
    "    '''saves model, model summary, feature importances, and predictions'''\n",
    "    with open('model.txt', 'w') as file:\n",
    "        file.write(str(model))\n",
    "    #feature_importances.to_csv('feature_importances.csv')\n",
    "    predictions.to_csv('House_Prices_prediction.csv')"
   ]
  },
  {
   "cell_type": "code",
   "execution_count": 38,
   "metadata": {},
   "outputs": [
    {
     "name": "stdout",
     "output_type": "stream",
     "text": [
      "Loading data\n",
      "Transform Data - Ocean Proximity variable\n",
      "Factors and Target data ready for Modeling \n"
     ]
    }
   ],
   "source": [
    "feature_vars = ['longitude','latitude','medianAge','totalRooms','bedrooms','population','households','medianIncome','oceanProximity']\n",
    "target_var = 'medianHouseValue'\n",
    "testSize = 0.2\n",
    "\n",
    "\n",
    "cleanup_nums = {\"oceanProximity\":     {\"NEAR BAY\": 0, \"<1H OCEAN\": 1, \"INLAND\": 2,\n",
    "                                      \"NEAR OCEAN\": 3, \"ISLAND\": 4 }}\n",
    "                \n",
    "\n",
    "\n",
    "print(\"Loading data\")\n",
    "housingData = load_data('data/useThisDatasetToBuildModel.csv')\n",
    "housingDataToPredict = load_data('data/useThisDatasetToPredict.csv')\n",
    "\n",
    "print(\"Transform Data - Ocean Proximity variable\")\n",
    "housingData = transform_data(housingData)\n",
    "housingDataToPredict = transform_data(housingDataToPredict)\n",
    "\n",
    "print(\"Factors and Target data ready for Modeling \")\n",
    "\n",
    "factors = get_factors(housingData, feature_vars)\n",
    "housingDataToPredict = get_factors(housingDataToPredict, feature_vars)\n",
    "\n",
    "\n",
    "\n",
    "## Target Variable\n",
    "response = get_target_df(housingData, target_var)\n",
    "\n"
   ]
  },
  {
   "cell_type": "code",
   "execution_count": 40,
   "metadata": {},
   "outputs": [
    {
     "name": "stdout",
     "output_type": "stream",
     "text": [
      "Model with best R2score 0.8202415597546666\n",
      "Results for this House Price prediction project were saved to the drive..\n"
     ]
    }
   ],
   "source": [
    "## Split Train and test\n",
    "testSize = 0.2\n",
    "trainFactors, testFactors, trainResponse, testResponse = train_test_split(factors, response, test_size=testSize, random_state=42)\n",
    "\n",
    "## Best Model tuned with Parameters\n",
    "bestModel = ensemble.GradientBoostingRegressor( init=None, learning_rate=0.15, loss='ls', max_depth=6,\n",
    "                                                min_samples_leaf=1, n_estimators=600,  random_state=22,\n",
    "                                                min_samples_split=2,verbose=0)\n",
    "\n",
    "#train Best model and make predictions on housingDataToPredict dataset\n",
    "bestModel.fit(trainFactors, trainResponse)\n",
    "\n",
    "bestModelResponse = bestModel.predict(testFactors)\n",
    "bestModelR2score = r2_score(bestModelResponse, testResponse)\n",
    "print('Model with best R2score', bestModelR2score)\n",
    "\n",
    "predictions = get_predictions(bestModel, housingDataToPredict)\n",
    "\n",
    "predictedResults = pd.DataFrame(predictions)\n",
    "\n",
    "save_results(bestModel, predictedResults)\n",
    "print('Results for this House Price prediction project were saved to the drive..')"
   ]
  },
  {
   "cell_type": "markdown",
   "metadata": {},
   "source": [
    "#### --- R2 Score : 0.82"
   ]
  }
 ],
 "metadata": {
  "kernelspec": {
   "display_name": "Python 3",
   "language": "python",
   "name": "python3"
  },
  "language_info": {
   "codemirror_mode": {
    "name": "ipython",
    "version": 3
   },
   "file_extension": ".py",
   "mimetype": "text/x-python",
   "name": "python",
   "nbconvert_exporter": "python",
   "pygments_lexer": "ipython3",
   "version": "3.7.3"
  },
  "toc": {
   "base_numbering": 1,
   "nav_menu": {},
   "number_sections": true,
   "sideBar": true,
   "skip_h1_title": false,
   "title_cell": "Table of Contents",
   "title_sidebar": "Contents",
   "toc_cell": false,
   "toc_position": {},
   "toc_section_display": true,
   "toc_window_display": true
  }
 },
 "nbformat": 4,
 "nbformat_minor": 2
}
