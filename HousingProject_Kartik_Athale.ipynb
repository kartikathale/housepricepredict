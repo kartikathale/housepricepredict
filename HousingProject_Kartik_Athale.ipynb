{
 "cells": [
  {
   "cell_type": "code",
   "execution_count": 2,
   "metadata": {
    "collapsed": true
   },
   "outputs": [],
   "source": [
    "import pandas as pd\n",
    "\n",
    "import warnings\n",
    "warnings.filterwarnings('ignore')\n",
    "\n"
   ]
  },
  {
   "cell_type": "code",
   "execution_count": 3,
   "metadata": {
    "collapsed": true
   },
   "outputs": [],
   "source": [
    "housingData = pd.read_csv('useThisDatasetToBuildModel.csv')\n"
   ]
  },
  {
   "cell_type": "code",
   "execution_count": 4,
   "metadata": {},
   "outputs": [
    {
     "name": "stdout",
     "output_type": "stream",
     "text": [
      "<class 'pandas.core.frame.DataFrame'>\n",
      "RangeIndex: 14347 entries, 0 to 14346\n",
      "Data columns (total 10 columns):\n",
      "longitude           14347 non-null float64\n",
      "latitude            14347 non-null float64\n",
      "medianAge           14347 non-null int64\n",
      "totalRooms          14347 non-null int64\n",
      "bedrooms            14347 non-null int64\n",
      "population          14347 non-null int64\n",
      "households          14347 non-null int64\n",
      "medianIncome        14347 non-null float64\n",
      "medianHouseValue    14347 non-null int64\n",
      "oceanProximity      14347 non-null object\n",
      "dtypes: float64(3), int64(6), object(1)\n",
      "memory usage: 1.1+ MB\n"
     ]
    },
    {
     "data": {
      "text/plain": [
       "(14347, 10)"
      ]
     },
     "execution_count": 4,
     "metadata": {},
     "output_type": "execute_result"
    }
   ],
   "source": [
    "housingData.info()\n",
    "housingData.shape ## 14347 rows and 10 columns"
   ]
  },
  {
   "cell_type": "code",
   "execution_count": 5,
   "metadata": {},
   "outputs": [
    {
     "data": {
      "text/html": [
       "<div>\n",
       "<style scoped>\n",
       "    .dataframe tbody tr th:only-of-type {\n",
       "        vertical-align: middle;\n",
       "    }\n",
       "\n",
       "    .dataframe tbody tr th {\n",
       "        vertical-align: top;\n",
       "    }\n",
       "\n",
       "    .dataframe thead th {\n",
       "        text-align: right;\n",
       "    }\n",
       "</style>\n",
       "<table border=\"1\" class=\"dataframe\">\n",
       "  <thead>\n",
       "    <tr style=\"text-align: right;\">\n",
       "      <th></th>\n",
       "      <th>longitude</th>\n",
       "      <th>latitude</th>\n",
       "      <th>medianAge</th>\n",
       "      <th>totalRooms</th>\n",
       "      <th>bedrooms</th>\n",
       "      <th>population</th>\n",
       "      <th>households</th>\n",
       "      <th>medianIncome</th>\n",
       "      <th>medianHouseValue</th>\n",
       "      <th>oceanProximity</th>\n",
       "    </tr>\n",
       "  </thead>\n",
       "  <tbody>\n",
       "    <tr>\n",
       "      <th>0</th>\n",
       "      <td>-122.22</td>\n",
       "      <td>37.86</td>\n",
       "      <td>21</td>\n",
       "      <td>7099</td>\n",
       "      <td>1106</td>\n",
       "      <td>2401</td>\n",
       "      <td>1138</td>\n",
       "      <td>8.3014</td>\n",
       "      <td>358500</td>\n",
       "      <td>NEAR BAY</td>\n",
       "    </tr>\n",
       "    <tr>\n",
       "      <th>1</th>\n",
       "      <td>-122.24</td>\n",
       "      <td>37.85</td>\n",
       "      <td>52</td>\n",
       "      <td>1467</td>\n",
       "      <td>190</td>\n",
       "      <td>496</td>\n",
       "      <td>177</td>\n",
       "      <td>7.2574</td>\n",
       "      <td>352100</td>\n",
       "      <td>NEAR BAY</td>\n",
       "    </tr>\n",
       "    <tr>\n",
       "      <th>2</th>\n",
       "      <td>-122.25</td>\n",
       "      <td>37.85</td>\n",
       "      <td>52</td>\n",
       "      <td>1627</td>\n",
       "      <td>280</td>\n",
       "      <td>565</td>\n",
       "      <td>259</td>\n",
       "      <td>3.8462</td>\n",
       "      <td>342200</td>\n",
       "      <td>NEAR BAY</td>\n",
       "    </tr>\n",
       "    <tr>\n",
       "      <th>3</th>\n",
       "      <td>-122.25</td>\n",
       "      <td>37.84</td>\n",
       "      <td>52</td>\n",
       "      <td>2535</td>\n",
       "      <td>489</td>\n",
       "      <td>1094</td>\n",
       "      <td>514</td>\n",
       "      <td>3.6591</td>\n",
       "      <td>299200</td>\n",
       "      <td>NEAR BAY</td>\n",
       "    </tr>\n",
       "    <tr>\n",
       "      <th>4</th>\n",
       "      <td>-122.25</td>\n",
       "      <td>37.84</td>\n",
       "      <td>52</td>\n",
       "      <td>3104</td>\n",
       "      <td>687</td>\n",
       "      <td>1157</td>\n",
       "      <td>647</td>\n",
       "      <td>3.1200</td>\n",
       "      <td>241400</td>\n",
       "      <td>NEAR BAY</td>\n",
       "    </tr>\n",
       "  </tbody>\n",
       "</table>\n",
       "</div>"
      ],
      "text/plain": [
       "   longitude  latitude  medianAge  totalRooms  bedrooms  population  \\\n",
       "0    -122.22     37.86         21        7099      1106        2401   \n",
       "1    -122.24     37.85         52        1467       190         496   \n",
       "2    -122.25     37.85         52        1627       280         565   \n",
       "3    -122.25     37.84         52        2535       489        1094   \n",
       "4    -122.25     37.84         52        3104       687        1157   \n",
       "\n",
       "   households  medianIncome  medianHouseValue oceanProximity  \n",
       "0        1138        8.3014            358500       NEAR BAY  \n",
       "1         177        7.2574            352100       NEAR BAY  \n",
       "2         259        3.8462            342200       NEAR BAY  \n",
       "3         514        3.6591            299200       NEAR BAY  \n",
       "4         647        3.1200            241400       NEAR BAY  "
      ]
     },
     "execution_count": 5,
     "metadata": {},
     "output_type": "execute_result"
    }
   ],
   "source": [
    "housingData.head() ## 14348 rows, including the header)"
   ]
  },
  {
   "cell_type": "code",
   "execution_count": null,
   "metadata": {},
   "outputs": [],
   "source": []
  },
  {
   "cell_type": "raw",
   "metadata": {},
   "source": [
    "# If there are any missing data, you can impute these values \n",
    "# (there is none in this dataset)\n",
    "# housingData[\"bedrooms\"].fillna(housingData[\"bedrooms\"].median(), inplace=True)\n",
    "housingData.isna().sum()\n",
    "\n"
   ]
  },
  {
   "cell_type": "code",
   "execution_count": 7,
   "metadata": {
    "collapsed": true
   },
   "outputs": [],
   "source": [
    "# Set your factors and response\n",
    "factors = housingData[['longitude','latitude','medianAge','totalRooms','bedrooms','population','households','medianIncome']]\n",
    "response = housingData['medianHouseValue']"
   ]
  },
  {
   "cell_type": "code",
   "execution_count": 8,
   "metadata": {
    "collapsed": true
   },
   "outputs": [],
   "source": [
    "# Build your train and test datasets\n",
    "from sklearn.model_selection import train_test_split\n",
    "\n",
    "testSize = 0.2\n",
    "trainFactors, testFactors, trainResponse, testResponse = train_test_split(factors, response, test_size=testSize, random_state=42)"
   ]
  },
  {
   "cell_type": "markdown",
   "metadata": {},
   "source": [
    "## Linear Support Vector Regression"
   ]
  },
  {
   "cell_type": "code",
   "execution_count": 9,
   "metadata": {
    "collapsed": true
   },
   "outputs": [],
   "source": [
    "#Import LinearSVR\n",
    "from sklearn.svm import LinearSVR"
   ]
  },
  {
   "cell_type": "code",
   "execution_count": 10,
   "metadata": {
    "collapsed": true
   },
   "outputs": [],
   "source": [
    "# Define the SVR object\n",
    "lin_svr = LinearSVR(random_state=42)"
   ]
  },
  {
   "cell_type": "code",
   "execution_count": 11,
   "metadata": {},
   "outputs": [
    {
     "data": {
      "text/plain": [
       "LinearSVR(C=1.0, dual=True, epsilon=0.0, fit_intercept=True,\n",
       "     intercept_scaling=1.0, loss='epsilon_insensitive', max_iter=1000,\n",
       "     random_state=42, tol=0.0001, verbose=0)"
      ]
     },
     "execution_count": 11,
     "metadata": {},
     "output_type": "execute_result"
    }
   ],
   "source": [
    "# Build the model fit using the training set\n",
    "lin_svr.fit(trainFactors, trainResponse)"
   ]
  },
  {
   "cell_type": "code",
   "execution_count": 12,
   "metadata": {
    "collapsed": true
   },
   "outputs": [],
   "source": [
    "# Get the response for the test set\n",
    "svrResponse = lin_svr.predict(testFactors)"
   ]
  },
  {
   "cell_type": "code",
   "execution_count": 13,
   "metadata": {},
   "outputs": [
    {
     "data": {
      "text/plain": [
       "-2.9388177239119035"
      ]
     },
     "execution_count": 13,
     "metadata": {},
     "output_type": "execute_result"
    }
   ],
   "source": [
    "# Get rSquare Value\n",
    "from sklearn.metrics import r2_score\n",
    "svrR2score = r2_score(svrResponse, testResponse)\n",
    "svrR2score"
   ]
  },
  {
   "cell_type": "code",
   "execution_count": 14,
   "metadata": {},
   "outputs": [
    {
     "data": {
      "text/plain": [
       "-2.5881896974532745"
      ]
     },
     "execution_count": 14,
     "metadata": {},
     "output_type": "execute_result"
    }
   ],
   "source": [
    "# Putting it all together\n",
    "from sklearn.svm import LinearSVR\n",
    "from sklearn.metrics import r2_score\n",
    "svrModel = LinearSVR(random_state=82)\n",
    "svrModel.fit(trainFactors, trainResponse)\n",
    "svrResponse = svrModel.predict(testFactors)\n",
    "svrR2score = r2_score(svrResponse, testResponse)\n",
    "svrR2score"
   ]
  },
  {
   "cell_type": "code",
   "execution_count": 14,
   "metadata": {},
   "outputs": [
    {
     "name": "stderr",
     "output_type": "stream",
     "text": [
      "[Parallel(n_jobs=1)]: Done  10 out of  10 | elapsed:    0.7s finished\n",
      "[Parallel(n_jobs=1)]: Done  10 out of  10 | elapsed:    0.0s finished\n"
     ]
    },
    {
     "data": {
      "text/plain": [
       "0.7433564860802326"
      ]
     },
     "execution_count": 14,
     "metadata": {},
     "output_type": "execute_result"
    }
   ],
   "source": [
    "from sklearn.ensemble import RandomForestRegressor\n",
    "randomForestModel = RandomForestRegressor(n_estimators=10, min_samples_split=2, verbose = True,random_state=82)\n",
    "randomForestModel.fit(trainFactors, trainResponse)\n",
    "randomForestResponse = randomForestModel.predict(testFactors)\n",
    "randomForestR2score = r2_score(randomForestResponse, testResponse)\n",
    "randomForestR2score"
   ]
  },
  {
   "cell_type": "code",
   "execution_count": 15,
   "metadata": {},
   "outputs": [
    {
     "data": {
      "text/plain": [
       "0.46928174710361914"
      ]
     },
     "execution_count": 15,
     "metadata": {},
     "output_type": "execute_result"
    }
   ],
   "source": [
    "\n",
    "from sklearn.linear_model import LinearRegression\n",
    "\n",
    "linearRegressionModel = LinearRegression()\n",
    "# Train the model using the training sets\n",
    "linearRegressionModel.fit(trainFactors, trainResponse)\n",
    "\n",
    "# Make predictions using the testing set\n",
    "linearRegressionResponse = linearRegressionModel.predict(testFactors)\n",
    "linearRegressionR2score = r2_score(linearRegressionResponse, testResponse)\n",
    "linearRegressionR2score"
   ]
  },
  {
   "cell_type": "code",
   "execution_count": 16,
   "metadata": {},
   "outputs": [
    {
     "name": "stdout",
     "output_type": "stream",
     "text": [
      "Coefficients: \n",
      " [-4.34137242e+04 -4.30981498e+04  1.11278633e+03 -8.66416692e+00\n",
      "  1.27943164e+02 -3.64610516e+01  2.95318022e+01  4.06396688e+04]\n"
     ]
    }
   ],
   "source": [
    "# The coefficients\n",
    "print('Coefficients: \\n', linearRegressionModel.coef_)"
   ]
  },
  {
   "cell_type": "code",
   "execution_count": 17,
   "metadata": {},
   "outputs": [
    {
     "name": "stdout",
     "output_type": "stream",
     "text": [
      "Linear Regression: \n",
      " Predicted Price:  163479.10327106807  \n",
      "   Actual Price:  330200\n",
      "Random Forest: \n",
      " Predicted Price:  216890.0  \n",
      "   Actual Price:  330200\n",
      "SVR: \n",
      " Predicted Price:  125716.04043765012  \n",
      "   Actual Price:  330200\n"
     ]
    }
   ],
   "source": [
    "spotCheck = 410\n",
    "print(\"Linear Regression: \\n Predicted Price:  {}  \\n   Actual Price:  {}\".format(linearRegressionResponse[spotCheck], testResponse[spotCheck]))\n",
    "print(\"Random Forest: \\n Predicted Price:  {}  \\n   Actual Price:  {}\".format(randomForestResponse[spotCheck], testResponse[spotCheck]))\n",
    "print(\"SVR: \\n Predicted Price:  {}  \\n   Actual Price:  {}\".format(svrResponse[spotCheck], testResponse[spotCheck]))\n"
   ]
  },
  {
   "cell_type": "code",
   "execution_count": 22,
   "metadata": {},
   "outputs": [
    {
     "data": {
      "text/plain": [
       "0.46926483159690846"
      ]
     },
     "execution_count": 22,
     "metadata": {},
     "output_type": "execute_result"
    }
   ],
   "source": [
    "## Rest of your code calculations go here\n",
    "# your models\n",
    "# Lasso Regession.\n",
    "\n",
    "from sklearn.linear_model import Lasso\n",
    "\n",
    "#lassoReg = Lasso(alpha=0.2, normalize=True, random_state=21) ## Gives same results even after changing alpha.\n",
    "lassoReg = Lasso(random_state=20)\n",
    "lassoReg.fit(trainFactors, trainResponse)\n",
    "\n",
    "lassoResponse = lassoReg.predict(testFactors)\n",
    "\n",
    "lassoRegR2score = r2_score(lassoResponse, testResponse)\n",
    "lassoRegR2score"
   ]
  },
  {
   "cell_type": "code",
   "execution_count": 23,
   "metadata": {},
   "outputs": [
    {
     "data": {
      "text/plain": [
       "0.469219972554515"
      ]
     },
     "execution_count": 23,
     "metadata": {},
     "output_type": "execute_result"
    }
   ],
   "source": [
    "## Ridge Regression.\n",
    "\n",
    "from sklearn.linear_model import Ridge\n",
    "#ridgeReg = Ridge(alpha=0.001, normalize=True) # It gives 0.465\n",
    "ridgeReg = Ridge(random_state=21)\n",
    "ridgeReg.fit(trainFactors, trainResponse)\n",
    "\n",
    "ridgeResponse = ridgeReg.predict(testFactors)\n",
    "#ridgeReg.score(testFactors,testResponse)\n",
    "ridgeRegR2score = r2_score(ridgeResponse, testResponse)\n",
    "ridgeRegR2score"
   ]
  },
  {
   "cell_type": "code",
   "execution_count": 15,
   "metadata": {},
   "outputs": [
    {
     "data": {
      "text/plain": [
       "0.6606404213379848"
      ]
     },
     "execution_count": 15,
     "metadata": {},
     "output_type": "execute_result"
    }
   ],
   "source": [
    "## Decision Tree Regressor\n",
    "\n",
    "from sklearn.tree import DecisionTreeRegressor\n",
    "DTregressor = DecisionTreeRegressor(criterion='mae', splitter='best', max_depth=10, \n",
    "                                    min_samples_split=2, min_samples_leaf=1, min_weight_fraction_leaf=0.0, \n",
    "                                    max_features='auto', random_state=2, max_leaf_nodes=None, \n",
    "                                    min_impurity_decrease=0.01, min_impurity_split=None, presort=False)\n",
    "\n",
    "DTregressor.fit(trainFactors,trainResponse)\n",
    "DTResponse = DTregressor.predict(testFactors)\n",
    "DTR2score = r2_score(DTResponse, testResponse)\n",
    "DTR2score"
   ]
  },
  {
   "cell_type": "code",
   "execution_count": 41,
   "metadata": {},
   "outputs": [
    {
     "data": {
      "text/plain": [
       "0.8008472369307285"
      ]
     },
     "execution_count": 41,
     "metadata": {},
     "output_type": "execute_result"
    }
   ],
   "source": [
    "## Gradient Boosting Regressor\n",
    "\n",
    "from sklearn import ensemble\n",
    "ensemblemodel = ensemble.GradientBoostingRegressor(n_estimators=145, max_depth = 4, min_samples_split = 2,\n",
    "                                                    learning_rate = 0.2, loss = 'ls', random_state=43)\n",
    "\n",
    "ensemblemodel.fit(trainFactors, trainResponse)\n",
    "\n",
    "ensembleResponse = ensemblemodel.predict(testFactors)\n",
    "ensembleR2score = r2_score(ensembleResponse, testResponse)\n",
    "ensembleR2score"
   ]
  },
  {
   "cell_type": "code",
   "execution_count": 43,
   "metadata": {},
   "outputs": [
    {
     "data": {
      "text/plain": [
       "0.8247400893875617"
      ]
     },
     "execution_count": 43,
     "metadata": {},
     "output_type": "execute_result"
    }
   ],
   "source": [
    "## ## Gradient Boosting Regressor - Tuning Parameters (to be used as Best Model)\n",
    " \n",
    "\n",
    "ensemblemodel1 = ensemble.GradientBoostingRegressor( init=None,\n",
    " learning_rate=0.15, loss='ls', max_depth=6,\n",
    "   min_samples_leaf=4, n_estimators=600,  random_state=22,\n",
    "  verbose=0)\n",
    "\n",
    "\n",
    "ensemblemodel1.fit(trainFactors, trainResponse)\n",
    "\n",
    "ensembleResponse1 = ensemblemodel1.predict(testFactors)\n",
    "ensembleR2score1 = r2_score(ensembleResponse1, testResponse)\n",
    "ensembleR2score1"
   ]
  },
  {
   "cell_type": "code",
   "execution_count": null,
   "metadata": {
    "collapsed": true
   },
   "outputs": [],
   "source": [
    "### Plotting Graph to find feature importance"
   ]
  },
  {
   "cell_type": "code",
   "execution_count": 45,
   "metadata": {
    "scrolled": true
   },
   "outputs": [
    {
     "data": {
      "text/plain": [
       "Text(0,0.5,'Feature Importance Score')"
      ]
     },
     "execution_count": 45,
     "metadata": {},
     "output_type": "execute_result"
    },
    {
     "data": {
      "image/png": "[encoded data removed]",
      "text/plain": [
       "<Figure size 432x288 with 1 Axes>"
      ]
     },
     "metadata": {},
     "output_type": "display_data"
    }
   ],
   "source": [
    "import matplotlib.pyplot as plt\n",
    "\n",
    "from sklearn.metrics import classification_report\n",
    "\n",
    "predictors=list(trainFactors)\n",
    "feat_imp = pd.Series(ensemblemodel1.feature_importances_, predictors).sort_values(ascending=False)\n",
    "feat_imp.plot(kind='bar', title='Importance of Features')\n",
    "plt.ylabel('Feature Importance Score')\n"
   ]
  },
  {
   "cell_type": "code",
   "execution_count": null,
   "metadata": {
    "collapsed": true
   },
   "outputs": [],
   "source": [
    "## Tried to get best parameter value for tuning but didnt work..hence commenting out the code (Pls ignore)\n",
    "\n",
    "#from sklearn.grid_search import GridSearchCV\n",
    "#from sklearn.ensemble import GradientBoostingClassifier\n",
    "#p_test = {'learning_rate':[0.15,0.1,0.05,0.01,0.005,0.001], 'n_estimators':[100,250,500,750,1000,1250]}\n",
    "\n",
    "#tuning = GridSearchCV(estimator =GradientBoostingClassifier(max_depth=4, min_samples_split=2, min_samples_leaf=1, subsample=1,max_features='sqrt', random_state=10), \n",
    "#                      param_grid = p_test, scoring='accuracy',n_jobs=4,iid=False, cv=5)\n",
    "#tuning.fit(trainFactors, trainResponse)\n",
    "#tuning.grid_scores_, tuning.best_params_, tuning.best_score_"
   ]
  },
  {
   "cell_type": "code",
   "execution_count": null,
   "metadata": {
    "collapsed": true
   },
   "outputs": [],
   "source": [
    "## Also, used SVRregressor, DecisionTreeClassifier, AdaBoostClassifier, XGBClassifier, CatBoostClassifier \n",
    "##but results were not good. Also, CatboostError: bad allocation gave error as CatboostError: bad allocation &didnt run.\n"
   ]
  },
  {
   "cell_type": "code",
   "execution_count": 46,
   "metadata": {},
   "outputs": [
    {
     "data": {
      "text/html": [
       "<div>\n",
       "<style scoped>\n",
       "    .dataframe tbody tr th:only-of-type {\n",
       "        vertical-align: middle;\n",
       "    }\n",
       "\n",
       "    .dataframe tbody tr th {\n",
       "        vertical-align: top;\n",
       "    }\n",
       "\n",
       "    .dataframe thead th {\n",
       "        text-align: right;\n",
       "    }\n",
       "</style>\n",
       "<table border=\"1\" class=\"dataframe\">\n",
       "  <thead>\n",
       "    <tr style=\"text-align: right;\">\n",
       "      <th></th>\n",
       "      <th>longitude</th>\n",
       "      <th>latitude</th>\n",
       "      <th>medianAge</th>\n",
       "      <th>totalRooms</th>\n",
       "      <th>bedrooms</th>\n",
       "      <th>population</th>\n",
       "      <th>households</th>\n",
       "      <th>medianIncome</th>\n",
       "      <th>oceanProximity</th>\n",
       "    </tr>\n",
       "  </thead>\n",
       "  <tbody>\n",
       "    <tr>\n",
       "      <th>0</th>\n",
       "      <td>-122.23</td>\n",
       "      <td>37.88</td>\n",
       "      <td>41</td>\n",
       "      <td>880</td>\n",
       "      <td>129</td>\n",
       "      <td>322</td>\n",
       "      <td>126</td>\n",
       "      <td>8.3252</td>\n",
       "      <td>NEAR BAY</td>\n",
       "    </tr>\n",
       "    <tr>\n",
       "      <th>1</th>\n",
       "      <td>-122.25</td>\n",
       "      <td>37.85</td>\n",
       "      <td>52</td>\n",
       "      <td>1274</td>\n",
       "      <td>235</td>\n",
       "      <td>558</td>\n",
       "      <td>219</td>\n",
       "      <td>5.6431</td>\n",
       "      <td>NEAR BAY</td>\n",
       "    </tr>\n",
       "    <tr>\n",
       "      <th>2</th>\n",
       "      <td>-122.25</td>\n",
       "      <td>37.85</td>\n",
       "      <td>52</td>\n",
       "      <td>919</td>\n",
       "      <td>213</td>\n",
       "      <td>413</td>\n",
       "      <td>193</td>\n",
       "      <td>4.0368</td>\n",
       "      <td>NEAR BAY</td>\n",
       "    </tr>\n",
       "    <tr>\n",
       "      <th>3</th>\n",
       "      <td>-122.26</td>\n",
       "      <td>37.85</td>\n",
       "      <td>50</td>\n",
       "      <td>1120</td>\n",
       "      <td>283</td>\n",
       "      <td>697</td>\n",
       "      <td>264</td>\n",
       "      <td>2.1250</td>\n",
       "      <td>NEAR BAY</td>\n",
       "    </tr>\n",
       "    <tr>\n",
       "      <th>4</th>\n",
       "      <td>-122.27</td>\n",
       "      <td>37.85</td>\n",
       "      <td>52</td>\n",
       "      <td>1966</td>\n",
       "      <td>347</td>\n",
       "      <td>793</td>\n",
       "      <td>331</td>\n",
       "      <td>2.7750</td>\n",
       "      <td>NEAR BAY</td>\n",
       "    </tr>\n",
       "  </tbody>\n",
       "</table>\n",
       "</div>"
      ],
      "text/plain": [
       "   longitude  latitude  medianAge  totalRooms  bedrooms  population  \\\n",
       "0    -122.23     37.88         41         880       129         322   \n",
       "1    -122.25     37.85         52        1274       235         558   \n",
       "2    -122.25     37.85         52         919       213         413   \n",
       "3    -122.26     37.85         50        1120       283         697   \n",
       "4    -122.27     37.85         52        1966       347         793   \n",
       "\n",
       "   households  medianIncome oceanProximity  \n",
       "0         126        8.3252       NEAR BAY  \n",
       "1         219        5.6431       NEAR BAY  \n",
       "2         193        4.0368       NEAR BAY  \n",
       "3         264        2.1250       NEAR BAY  \n",
       "4         331        2.7750       NEAR BAY  "
      ]
     },
     "execution_count": 46,
     "metadata": {},
     "output_type": "execute_result"
    }
   ],
   "source": [
    "# Finally\n",
    "housingDataToPredict = pd.read_csv('useThisDatasetToPredict.csv')\n",
    "housingDataToPredict.head()"
   ]
  },
  {
   "cell_type": "code",
   "execution_count": 47,
   "metadata": {},
   "outputs": [
    {
     "data": {
      "text/plain": [
       "0.8247400893875617"
      ]
     },
     "execution_count": 47,
     "metadata": {},
     "output_type": "execute_result"
    }
   ],
   "source": [
    "# Get best model\n",
    "# Your code goes here\n",
    "\n",
    "bestModel = ensemble.GradientBoostingRegressor( init=None, learning_rate=0.15, loss='ls', max_depth=6,\n",
    "                                                min_samples_leaf=4, n_estimators=600,  random_state=22,\n",
    "                                                verbose=0)\n",
    "\n",
    "\n",
    "bestModel.fit(trainFactors, trainResponse)\n",
    "\n",
    "bestModelResponse = bestModel.predict(testFactors)\n",
    "bestModelR2score = r2_score(bestModelResponse, testResponse)\n",
    "bestModelR2score"
   ]
  },
  {
   "cell_type": "code",
   "execution_count": 48,
   "metadata": {
    "collapsed": true
   },
   "outputs": [],
   "source": [
    "predictFactors = housingDataToPredict[['longitude','latitude','medianAge','totalRooms','bedrooms','population','households','medianIncome']]\n",
    "predictedPrices = bestModel.predict(predictFactors)\n"
   ]
  },
  {
   "cell_type": "code",
   "execution_count": 49,
   "metadata": {
    "collapsed": true
   },
   "outputs": [],
   "source": [
    "predictedResults = pd.DataFrame(predictedPrices)"
   ]
  },
  {
   "cell_type": "code",
   "execution_count": 51,
   "metadata": {
    "collapsed": true
   },
   "outputs": [],
   "source": [
    "predictedResults.to_csv('finalProjectPredictions_Kartik_Athale.csv')"
   ]
  },
  {
   "cell_type": "code",
   "execution_count": 54,
   "metadata": {},
   "outputs": [
    {
     "data": {
      "text/plain": [
       "GradientBoostingRegressor(alpha=0.9, criterion='friedman_mse', init=None,\n",
       "             learning_rate=0.15, loss='ls', max_depth=6, max_features=None,\n",
       "             max_leaf_nodes=None, min_impurity_decrease=0.0,\n",
       "             min_impurity_split=None, min_samples_leaf=4,\n",
       "             min_samples_split=2, min_weight_fraction_leaf=0.0,\n",
       "             n_estimators=600, presort='auto', random_state=22,\n",
       "             subsample=1.0, verbose=0, warm_start=False)"
      ]
     },
     "execution_count": 54,
     "metadata": {},
     "output_type": "execute_result"
    }
   ],
   "source": [
    "bestModel"
   ]
  }
 ],
 "metadata": {
  "kernelspec": {
   "display_name": "Python 3",
   "language": "python",
   "name": "python3"
  },
  "language_info": {
   "codemirror_mode": {
    "name": "ipython",
    "version": 3
   },
   "file_extension": ".py",
   "mimetype": "text/x-python",
   "name": "python",
   "nbconvert_exporter": "python",
   "pygments_lexer": "ipython3",
   "version": "3.6.5"
  },
  "toc": {
   "base_numbering": 1,
   "nav_menu": {},
   "number_sections": true,
   "sideBar": true,
   "skip_h1_title": false,
   "title_cell": "Table of Contents",
   "title_sidebar": "Contents",
   "toc_cell": false,
   "toc_position": {},
   "toc_section_display": true,
   "toc_window_display": true
  }
 },
 "nbformat": 4,
 "nbformat_minor": 2
}
